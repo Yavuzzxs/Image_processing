{
 "cells": [
  {
   "cell_type": "code",
   "execution_count": 14,
   "id": "48792c1a",
   "metadata": {},
   "outputs": [
    {
     "data": {
      "text/plain": [
       "-1"
      ]
     },
     "execution_count": 14,
     "metadata": {},
     "output_type": "execute_result"
    }
   ],
   "source": [
    "import cv2\n",
    "import numpy as np\n",
    "img = cv2.imread(\"sample.jpg\")\n",
    "cv2.imshow(\"Original\",img)\n",
    "def gaussian_noise(image):\n",
    "    row,col,ch = image.shape\n",
    "    mean = 0\n",
    "    var = 0.05\n",
    "    sigma = var**0.5\n",
    "    gauss = np.random.normal(mean,sigma,(row,col,ch))\n",
    "    gauss = gauss.reshape(row,col,ch)\n",
    "    noisy = image + gauss\n",
    "    return noisy\n",
    "img = cv2.imread(\"sample.jpg\")\n",
    "img = img/255\n",
    "noise_img = gaussian_noise(img)\n",
    "cv2.imshow(\"Gaussian Noise\",noise_img)\n",
    "cv2.waitKey(0)"
   ]
  },
  {
   "cell_type": "code",
   "execution_count": 2,
   "id": "9612f1d1",
   "metadata": {},
   "outputs": [
    {
     "name": "stderr",
     "output_type": "stream",
     "text": [
      "C:\\Users\\Yavuz\\AppData\\Local\\Temp\\ipykernel_15284\\1700417229.py:10: FutureWarning: Using a non-tuple sequence for multidimensional indexing is deprecated; use `arr[tuple(seq)]` instead of `arr[seq]`. In the future this will be interpreted as an array index, `arr[np.array(seq)]`, which will result either in an error or a different result.\n",
      "  noisy[corrds] = 1\n",
      "C:\\Users\\Yavuz\\AppData\\Local\\Temp\\ipykernel_15284\\1700417229.py:13: FutureWarning: Using a non-tuple sequence for multidimensional indexing is deprecated; use `arr[tuple(seq)]` instead of `arr[seq]`. In the future this will be interpreted as an array index, `arr[np.array(seq)]`, which will result either in an error or a different result.\n",
      "  noisy[corrds] = 0\n"
     ]
    },
    {
     "data": {
      "text/plain": [
       "-1"
      ]
     },
     "execution_count": 2,
     "metadata": {},
     "output_type": "execute_result"
    }
   ],
   "source": [
    "import cv2\n",
    "import numpy as np\n",
    "def saltPepperNoise(image):\n",
    "    row,col,ch = image.shape\n",
    "    s_vs_p = 0.5\n",
    "    amount = 0.04\n",
    "    noisy = np.copy(image)\n",
    "    num_salt = int(np.ceil(amount*image.size*s_vs_p))\n",
    "    corrds = [np.random.randint(0,i-1,num_salt) for i in image.shape]\n",
    "    noisy[corrds] = 1\n",
    "    num_pep = int(np.ceil(amount*image.size*s_vs_p))\n",
    "    corrds = [np.random.randint(0,i-1,num_pep) for i in image.shape]\n",
    "    noisy[corrds] = 0\n",
    "    return noisy\n",
    "img = cv2.imread(\"sample.jpg\")\n",
    "img = img/255\n",
    "noise_img = saltPepperNoise(img)\n",
    "cv2.imshow(\"Gaussian Noise\",noise_img)\n",
    "cv2.waitKey(0)"
   ]
  },
  {
   "cell_type": "code",
   "execution_count": null,
   "id": "fb28666c",
   "metadata": {},
   "outputs": [],
   "source": []
  }
 ],
 "metadata": {
  "kernelspec": {
   "display_name": "Python 3 (ipykernel)",
   "language": "python",
   "name": "python3"
  },
  "language_info": {
   "codemirror_mode": {
    "name": "ipython",
    "version": 3
   },
   "file_extension": ".py",
   "mimetype": "text/x-python",
   "name": "python",
   "nbconvert_exporter": "python",
   "pygments_lexer": "ipython3",
   "version": "3.9.13"
  }
 },
 "nbformat": 4,
 "nbformat_minor": 5
}
