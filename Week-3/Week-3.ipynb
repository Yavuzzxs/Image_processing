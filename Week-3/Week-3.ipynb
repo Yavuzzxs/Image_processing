{
 "cells": [
  {
   "cell_type": "code",
   "execution_count": 7,
   "id": "1ac49314",
   "metadata": {},
   "outputs": [
    {
     "name": "stdout",
     "output_type": "stream",
     "text": [
      "[[1 2 3]\n",
      " [3 4 5]]\n"
     ]
    }
   ],
   "source": [
    "import numpy as np\n",
    "A=np.array([[1,2,3],[3,4,5]])\n",
    "print(A)"
   ]
  },
  {
   "cell_type": "code",
   "execution_count": 8,
   "id": "c3beff25",
   "metadata": {},
   "outputs": [
    {
     "name": "stdout",
     "output_type": "stream",
     "text": [
      "[[0. 0. 0.]\n",
      " [0. 0. 0.]]\n"
     ]
    }
   ],
   "source": [
    "array =np.zeros((2,3))\n",
    "print(array)"
   ]
  },
  {
   "cell_type": "code",
   "execution_count": 14,
   "id": "c11ed96e",
   "metadata": {},
   "outputs": [
    {
     "name": "stdout",
     "output_type": "stream",
     "text": [
      "[[1. 1. 1. 1. 1.]]\n",
      "[-0.75668225  2.05201328]\n"
     ]
    }
   ],
   "source": [
    "import numpy as np\n",
    "import math\n",
    "array =np.ones((1,5)) \n",
    "print(array)\n",
    "array2=np.random.randn((2))\n",
    "print(array2)"
   ]
  },
  {
   "cell_type": "code",
   "execution_count": 15,
   "id": "07f65bd3",
   "metadata": {},
   "outputs": [
    {
     "name": "stdout",
     "output_type": "stream",
     "text": [
      "Osman\n",
      "Kemal\n",
      "Kaan\n"
     ]
    }
   ],
   "source": [
    "friends=[\"Osman\",\"Kemal\",\"Kaan\"]\n",
    "for x in friends:\n",
    "    print(x)"
   ]
  },
  {
   "cell_type": "code",
   "execution_count": 30,
   "id": "91055f2a",
   "metadata": {},
   "outputs": [
    {
     "name": "stdout",
     "output_type": "stream",
     "text": [
      "87\n",
      "BB\n"
     ]
    }
   ],
   "source": [
    "import numpy as np\n",
    "from numpy import random\n",
    "x=random.randint(100)\n",
    "print(x)\n",
    "if x>=90:\n",
    "    print(\"AA\")\n",
    "elif x>=80:\n",
    "    print(\"BB\")\n",
    "elif x>=70:\n",
    "    print(\"CC\")\n",
    "elif x>=60:\n",
    "    print(\"DD\")\n",
    "elif x>=50:\n",
    "    print(\"DD\")\n",
    "else:\n",
    "    print(\"FF\")"
   ]
  }
 ],
 "metadata": {
  "kernelspec": {
   "display_name": "Python 3 (ipykernel)",
   "language": "python",
   "name": "python3"
  },
  "language_info": {
   "codemirror_mode": {
    "name": "ipython",
    "version": 3
   },
   "file_extension": ".py",
   "mimetype": "text/x-python",
   "name": "python",
   "nbconvert_exporter": "python",
   "pygments_lexer": "ipython3",
   "version": "3.9.13"
  }
 },
 "nbformat": 4,
 "nbformat_minor": 5
}
